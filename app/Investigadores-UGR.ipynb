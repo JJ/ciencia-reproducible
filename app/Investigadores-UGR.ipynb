{
 "cells": [
  {
   "cell_type": "markdown",
   "metadata": {},
   "source": [
    "#Ránking de investigadores en Informática en la UGR"
   ]
  },
  {
   "cell_type": "code",
   "execution_count": 1,
   "metadata": {
    "collapsed": true
   },
   "outputs": [],
   "source": [
    "%matplotlib inline\n",
    "from BeautifulSoup import BeautifulSoup\n",
    "import urllib2\n",
    "from IPython.display import ( \n",
    "    display, HTML \n",
    ")\n",
    "import matplotlib.pyplot as plt\n",
    "\n",
    "\n",
    "url = 'http://investigacion.ugr.es/ugrinvestiga/static/BuscadorRanking/*/buscar?tipo=&rama_c=&disciplina_c=TELE_D&especialidad_c=&indicador=&periodo='\n",
    "response = urllib2.urlopen( url )\n",
    "html= response.read()\n",
    "all_data = BeautifulSoup( html )\n",
    "investigadores = all_data.find( \"table\" ).findAll( \"tr\" )"
   ]
  },
  {
   "cell_type": "markdown",
   "metadata": {
    "collapsed": true
   },
   "source": [
    "Los datos han sido descargados de [la web de la UGR](http://investigacion.ugr.es/ugrinvestiga/static/BuscadorRanking/*/buscar?tipo=&rama_c=&disciplina_c=TELE_D&especialidad_c=&indicador=&periodo=')\n",
    "usando `urllib2`\n",
    "A continuación se muestra la tabla descargada"
   ]
  },
  {
   "cell_type": "code",
   "execution_count": 2,
   "metadata": {
    "collapsed": false
   },
   "outputs": [
    {
     "data": {
      "text/html": [
       "<table><tr><td>FRANCISCO HERRERA TRIGUERO</td><td>37054</td><td>99</td></tr><tr><td>ENRIQUE HERRERA VIEDMA</td><td>15581</td><td>61</td></tr><tr><td>JOSE LUIS VERDEGAY GALDEANO</td><td>9623</td><td>43</td></tr><tr><td>OSCAR CORDON GARCIA</td><td>9072</td><td>45</td></tr><tr><td>MARIA AMPARO VILA MIRANDA</td><td>6031</td><td>39</td></tr><tr><td>MANUEL LOZANO MARQUEZ</td><td>4893</td><td>25</td></tr><tr><td>SALVADOR GARCIA LOPEZ</td><td>4701</td><td>29</td></tr><tr><td>JUAN JULIAN MERELO GUERVOS</td><td>4619</td><td>25</td></tr><tr><td>JUAN LUIS CASTRO PEÑA</td><td>4123</td><td>31</td></tr><tr><td>SERAFIN MORAL CALLEJON</td><td>3986</td><td>35</td></tr><tr><td>LUIS MIGUEL DE CAMPOS IBAÑEZ</td><td>3787</td><td>35</td></tr><tr><td>ALBERTO PRIETO ESPINOSA</td><td>3557</td><td>30</td></tr><tr><td>RAFAEL MOLINA SORIANO</td><td>3345</td><td>28</td></tr><tr><td>CHRIS CORNELIS</td><td>3191</td><td>29</td></tr><tr><td>FRANCISCO J GAMIZ PEREZ</td><td>3155</td><td>30</td></tr><tr><td>JAVIER RAMIREZ PEREZ DE INESTROSA</td><td>3100</td><td>29</td></tr><tr><td>JORGE CASILLAS BARRANQUERO</td><td>2594</td><td>25</td></tr><tr><td>IGNACIO ROJAS RUIZ</td><td>2574</td><td>27</td></tr><tr><td>ANTONIO GONZALEZ MUÑOZ</td><td>2529</td><td>24</td></tr><tr><td>JULIO ORTEGA LOPERA</td><td>2430</td><td>25</td></tr><tr><td>JOSE CARLOS SEGURA LUNA</td><td>2350</td><td>23</td></tr><tr><td>JUAN MANUEL GORRIZ SAEZ</td><td>2246</td><td>26</td></tr><tr><td>EDUARDO ROS VIDAL</td><td>2082</td><td>25</td></tr><tr><td>DANIEL SANCHEZ FERNANDEZ</td><td>2011</td><td>21</td></tr><tr><td>RAFAEL ALCALA FERNÁNDEZ</td><td>1861</td><td>21</td></tr><tr><td>JUAN ANTONIO LOPEZ VILLANUEVA</td><td>1736</td><td>22</td></tr><tr><td>JESUS ALCALA FERNANDEZ</td><td>1664</td><td>18</td></tr><tr><td>JESUS GONZALEZ PEÑALVER</td><td>1449</td><td>20</td></tr><tr><td>JAVIER MATEOS DELGADO</td><td>1425</td><td>18</td></tr><tr><td>JUAN FRANCISCO HUETE GUADIX</td><td>1424</td><td>20</td></tr><tr><td>DAVID ALEJANDRO PELTA MOCHCOVSKY</td><td>1414</td><td>18</td></tr><tr><td>JUAN CARLOS CUBERO TALAVERA</td><td>1376</td><td>19</td></tr><tr><td>PEDRO ANGEL CASTILLO VALDIVIESO</td><td>1341</td><td>17</td></tr><tr><td>JUAN B. ROLDAN ARANDA</td><td>1287</td><td>20</td></tr><tr><td>BLANCA BIEL RUIZ</td><td>1250</td><td>12</td></tr><tr><td>MARIA JOSE MARTIN BAUTISTA</td><td>1194</td><td>19</td></tr><tr><td>LUCA DONETTI</td><td>1177</td><td>13</td></tr><tr><td>ANTONIO MIGUEL PEINADO HERREROS</td><td>1170</td><td>16</td></tr><tr><td>JOSE MANUEL BENITEZ SANCHEZ</td><td>1118</td><td>14</td></tr><tr><td>JUAN MANUEL FERNANDEZ LUNA</td><td>1081</td><td>17</td></tr><tr><td>ANTONIO GABRIEL LOPEZ HERRERA</td><td>1075</td><td>16</td></tr><tr><td>ALBERTO JOSE PALMA LOPEZ</td><td>1054</td><td>17</td></tr><tr><td>MARIA TERESA LAMATA JIMENEZ</td><td>1034</td><td>17</td></tr><tr><td>RAUL BAÑOS NAVARRO</td><td>1018</td><td>16</td></tr><tr><td>MARIA CORAL DEL VAL MUÑOZ</td><td>1015</td><td>15</td></tr><tr><td>ANTONIO JAVIER DIAZ ALONSO</td><td>1007</td><td>15</td></tr><tr><td>FRANCISCO GABRIEL RAUL PEREZ RODRIGUEZ</td><td>980</td><td>11</td></tr><tr><td>IGNACIO ALVAREZ ILLAN</td><td>962</td><td>18</td></tr><tr><td>FERNANDO ROJAS RUIZ</td><td>953</td><td>17</td></tr><tr><td>GUSTAVO ROMERO LOPEZ</td><td>904</td><td>13</td></tr><tr><td>ANTONIO GARCIA RIOS</td><td>896</td><td>16</td></tr><tr><td>ANDRES GODOY MEDINA</td><td>867</td><td>15</td></tr><tr><td>ANDRES CANO UTRERA</td><td>829</td><td>14</td></tr><tr><td>ALBERTO GUILLÉN PERALES</td><td>802</td><td>14</td></tr><tr><td>FERNANDO BERZAL GALIANO</td><td>775</td><td>13</td></tr><tr><td>JUAN CARLOS TORRES CANTERO</td><td>764</td><td>14</td></tr><tr><td>JORGE NAVARRO ORTIZ</td><td>743</td><td>7</td></tr><tr><td>LUIS CASTILLO VIDAL</td><td>736</td><td>13</td></tr><tr><td>JOSE SAMOS JIMENEZ</td><td>716</td><td>13</td></tr><tr><td>MARIA ISABEL GARCIA ARENAS</td><td>716</td><td>12</td></tr><tr><td>GABRIEL MACIA FERNANDEZ</td><td>696</td><td>10</td></tr><tr><td>JOAQUIN ABELLAN MULERO</td><td>692</td><td>16</td></tr><tr><td>ANTONIO MIGUEL MORA GARCIA</td><td>686</td><td>14</td></tr><tr><td>ANTONIO FRANCISCO DIAZ GARCIA</td><td>680</td><td>12</td></tr><tr><td>JUAN GOMEZ ROMERO</td><td>655</td><td>14</td></tr><tr><td>JOSE LUIS BERNIER VILLAMOR</td><td>625</td><td>13</td></tr><tr><td>ANA MARIA SANCHEZ LOPEZ</td><td>609</td><td>7</td></tr><tr><td>PABLO AMEIGEIRAS GUTIERREZ</td><td>584</td><td>12</td></tr><tr><td>JUAN LUIS JIMENEZ LAREDO</td><td>547</td><td>14</td></tr><tr><td>JUAN FERNANDEZ OLIVARES</td><td>531</td><td>12</td></tr><tr><td>MIGUEL VEGA LOPEZ</td><td>519</td><td>10</td></tr><tr><td>PABLO PADILLA DE LA TORRE</td><td>506</td><td>11</td></tr><tr><td>JESUS BANQUERI OZAEZ</td><td>481</td><td>12</td></tr><tr><td>EUGENIO AGUIRRE MOLINA</td><td>479</td><td>10</td></tr><tr><td>VICTORIA EUGENIA SANCHEZ CALLE</td><td>468</td><td>12</td></tr><tr><td>ANTONIO CAÑAS VARGAS</td><td>449</td><td>12</td></tr><tr><td>MIGUEL ANGEL CARVAJAL RODRIGUEZ</td><td>445</td><td>13</td></tr><tr><td>MIGUEL GARCÍA SILVENTE</td><td>427</td><td>12</td></tr><tr><td>JOSE CAMACHO PAEZ</td><td>411</td><td>10</td></tr><tr><td>JOSE LUIS PEREZ CORDOBA</td><td>401</td><td>7</td></tr><tr><td>MIGUEL GEA MEGIAS</td><td>388</td><td>9</td></tr><tr><td>IGNACIO JOSE BLANCO MEDINA</td><td>387</td><td>11</td></tr><tr><td>FRANCISCO JAVIER GARCIA RUIZ</td><td>365</td><td>11</td></tr><tr><td>MANUEL GOMEZ OLMEDO</td><td>353</td><td>11</td></tr><tr><td>FRANCISCO JIMENEZ MOLINOS</td><td>348</td><td>9</td></tr><tr><td>CARLOS ALBERTO CRUZ CORONA</td><td>338</td><td>9</td></tr><tr><td>SAMUEL FRANCISCO ROMERO GARCIA</td><td>332</td><td>9</td></tr><tr><td>ISAAC TRIGUERO VELAZQUEZ</td><td>329</td><td>8</td></tr><tr><td>LUIS PARRILLA ROURE</td><td>326</td><td>9</td></tr><tr><td>PATRICIA PADEREWSKI RODRIGUEZ</td><td>292</td><td>8</td></tr><tr><td>WALDO FAJARDO CONTRERAS</td><td>291</td><td>7</td></tr><tr><td>ANGEL MANUEL GOMEZ GARCIA</td><td>289</td><td>10</td></tr><tr><td>CARLOS SAMPEDRO MATARIN</td><td>288</td><td>9</td></tr><tr><td>MANUEL NOGUERA GARCIA</td><td>279</td><td>10</td></tr><tr><td>MIGUEL DAMAS HERMOSO</td><td>272</td><td>9</td></tr><tr><td>MARIA VISITACION HURTADO TORRES</td><td>270</td><td>9</td></tr><tr><td>CARLOS UREÑA ALMAGRO</td><td>251</td><td>6</td></tr><tr><td>CARLOS CANO GUTIERREZ</td><td>245</td><td>7</td></tr><tr><td>ENCARNACION CASTILLO MORALES</td><td>244</td><td>8</td></tr><tr><td>JOSE MIGUEL MANTAS RUIZ</td><td>239</td><td>10</td></tr><tr><td>MANUEL PEGALAJAR CUELLAR</td><td>236</td><td>9</td></tr><tr><td>FRANCISCO CHARTE OJEDA</td><td>223</td><td>6</td></tr><tr><td>ANDRES RAMON MASEGOSA ARREDONDO</td><td>222</td><td>8</td></tr><tr><td>JESUS ALBERTO GARRIDO ALCAZAR</td><td>212</td><td>8</td></tr><tr><td>PABLO GARCIA SANCHEZ</td><td>209</td><td>9</td></tr><tr><td>ANTONIO MARTINEZ OLMOS</td><td>207</td><td>10</td></tr><tr><td>MIGUEL LASTRA LEIDINGER</td><td>193</td><td>5</td></tr><tr><td>MARCELINO JOSE CABRERA CUEVAS</td><td>190</td><td>7</td></tr><tr><td>JOSE ANTONIO SAEZ MUÑOZ</td><td>188</td><td>6</td></tr><tr><td>OSCAR IBAÑEZ PANIZO</td><td>185</td><td>8</td></tr><tr><td>ARTURO GONZALEZ FERRER</td><td>176</td><td>8</td></tr><tr><td>ROCIO CELESTE ROMERO ZALIZ</td><td>158</td><td>7</td></tr><tr><td>DIEGO PEDRO MORALES SANTOS</td><td>151</td><td>7</td></tr><tr><td>JORGE REVELLES MORENO</td><td>148</td><td>4</td></tr><tr><td>FRANCISCO BARRANCO EXPOSITO</td><td>145</td><td>7</td></tr><tr><td>NICETO RAFAEL LUQUE SOLA</td><td>140</td><td>6</td></tr><tr><td>KAWTAR BENGHAZI AKHLAKI</td><td>134</td><td>7</td></tr><tr><td>MIGUEL JUAN HORNOS BARRANCO</td><td>127</td><td>7</td></tr><tr><td>JUAN JOSE RAMOS MUÑOZ</td><td>119</td><td>6</td></tr><tr><td>FRANCISCO JAVIER RODRIGUEZ DIAZ</td><td>118</td><td>8</td></tr><tr><td>GABRIEL NAVARRO GARULO</td><td>116</td><td>8</td></tr><tr><td>SALVADOR VILLENA MORALES</td><td>97</td><td>5</td></tr><tr><td>ISRAA AMRO</td><td>96</td><td>4</td></tr><tr><td>MANUEL ISIDORO CAPEL TUÑON</td><td>93</td><td>5</td></tr><tr><td>MARIA DOLORES RUIZ JIMENEZ</td><td>86</td><td>5</td></tr><tr><td>CARLOS RODRIGUEZ DOMINGUEZ</td><td>78</td><td>5</td></tr><tr><td>JULIAN GARRIDO SÁNCHEZ</td><td>69</td><td>5</td></tr><tr><td>NURIA LOPEZ RUIZ</td><td>68</td><td>5</td></tr><tr><td>ANDRES MARIA ROLDAN ARANDA</td><td>65</td><td>4</td></tr><tr><td>JOSE FERNANDEZ SALMERON</td><td>61</td><td>5</td></tr><tr><td>PEDRO CANO OLIVARES</td><td>60</td><td>5</td></tr><tr><td>FRANCISCO JAVIER MELERO RUS</td><td>58</td><td>5</td></tr><tr><td>MIGUEL JOSE MOLINA SOLANA</td><td>58</td><td>5</td></tr><tr><td>TOMAS RUIZ LOPEZ</td><td>56</td><td>4</td></tr><tr><td>FRANCISCO JESUS MARTINEZ MURCIA</td><td>55</td><td>3</td></tr><tr><td>DANIEL PERALTA CAMARA</td><td>54</td><td>4</td></tr><tr><td>ANTONIO JAVIER FERNANDEZ ARES</td><td>53</td><td>4</td></tr><tr><td>FRANCISCO VELASCO ANGUITA</td><td>52</td><td>4</td></tr><tr><td>JOSE ENRIQUE PONS FRIAS</td><td>50</td><td>4</td></tr><tr><td>ALEJANDRO DAVID MOREO FERNANDEZ</td><td>47</td><td>4</td></tr><tr><td>MARIA BERMUDEZ EDO</td><td>47</td><td>4</td></tr><tr><td>RAFAEL ALEJANDRO RODRIGUEZ GOMEZ</td><td>45</td><td>4</td></tr><tr><td>ENRIQUE JAIME FERNANDEZ SÁNCHEZ</td><td>44</td><td>4</td></tr><tr><td>ENRIQUE JOSE LEYVA MIRANDA</td><td>40</td><td>4</td></tr><tr><td>PABLO VILLACORTA IGLESIAS</td><td>38</td><td>4</td></tr><tr><td>CARLOS NAVARRO MORAL</td><td>37</td><td>4</td></tr><tr><td>MARIA RAQUEL UREÑA PEREZ</td><td>37</td><td>5</td></tr><tr><td>SERGIO RAMIREZ GALLEGO</td><td>37</td><td>1</td></tr><tr><td>SARA DEL RIO GARCIA</td><td>35</td><td>4</td></tr><tr><td>CORA BEATRIZ PEREZ ARIZA</td><td>32</td><td>4</td></tr><tr><td>FRANCISCO MANUEL ORTUÑO GUZMÁN</td><td>32</td><td>4</td></tr><tr><td>PABLO RUIZ MATARAN</td><td>30</td><td>3</td></tr><tr><td>NIEVES ABALOS SERRANO</td><td>29</td><td>3</td></tr><tr><td>LEOVIGILDO SANCHEZ CASADO</td><td>27</td><td>4</td></tr><tr><td>JORGE CASTRO GALLARDO</td><td>17</td><td>2</td></tr><tr><td>GONZALO MILLA MILLAN</td><td>15</td><td>2</td></tr><tr><td>JOSE RAFAEL LOPEZ ARCOS</td><td>14</td><td>2</td></tr><tr><td>ENRIQUE GONZALEZ MARIN</td><td>13</td><td>2</td></tr><tr><td>LALA SEPTEM RIZA</td><td>13</td><td>2</td></tr><tr><td>ELADIO GARVI GARCIA</td><td>12</td><td>2</td></tr><tr><td>FERNANDO MARTINEZ MARTI</td><td>12</td><td>2</td></tr><tr><td>JOSE AGUSTIN GARRIDO ALCAZAR</td><td>12</td><td>2</td></tr><tr><td>PABLO MARTINEZ CAÑADA</td><td>12</td><td>2</td></tr><tr><td>EDUARDO VICENTE LOPEZ</td><td>11</td><td>2</td></tr><tr><td>ROBERTO MAGAN CARRION</td><td>11</td><td>2</td></tr><tr><td>JUAN ANTONIO MORENTE MOLINERA</td><td>10</td><td>2</td></tr><tr><td>PABLO DAVID GUTIERREZ PEREZ</td><td>8</td><td>1</td></tr><tr><td>RAFAEL CABAÑAS DE PAZ</td><td>7</td><td>1</td></tr><tr><td>CELIA ROMO PEÑA</td><td>5</td><td>1</td></tr><tr><td>MARIA SOFIA MARTINEZ GARCIA</td><td>5</td><td>1</td></tr><tr><td>VICTOR MARTIN GOMEZ</td><td>5</td><td>2</td></tr><tr><td>PABLO VILLEGAS GÓNGORA</td><td>4</td><td>1</td></tr><tr><td>LAURA FERNANDEZ MARTIN</td><td>3</td><td>1</td></tr><tr><td>OLMO LEON CADAHI</td><td>1</td><td>1</td></tr><tr><td>CARMEN NAVARRO LUZON</td><td>0</td><td>0</td></tr><tr><td>DAILY MIRANDA PARDO</td><td>0</td><td>0</td></tr><tr><td>JOSE ANTONIO MORAL MUÑOZ</td><td>0</td><td>0</td></tr><tr><td>JOSE LUIS GUTIERREZ RIVAS</td><td>0</td><td>0</td></tr><tr><td>JUAN MANUEL SOTO RUEDA</td><td>0</td><td>0</td></tr><tr><td>RAFAEL ANGEL PRIETO DE LOPE</td><td>0</td><td>0</td></tr></table>"
      ],
      "text/plain": [
       "<IPython.core.display.HTML object>"
      ]
     },
     "metadata": {},
     "output_type": "display_data"
    }
   ],
   "source": [
    "output = \"<table>\"\n",
    "h_data = []\n",
    "for row in investigadores[1:]:\n",
    "    columnas = row.findAll('td')\n",
    "    rank =  int(columnas[0].string.strip())\n",
    "    nombre =  columnas[1].find('a').string.strip()\n",
    "    citas =  int(columnas[2].find('strong').string.strip())\n",
    "    h =  int(columnas[3].string.strip())\n",
    "    output += \"<tr><td>\"+nombre+\"</td><td>\"+str(citas)+\"</td><td>\"+str(h)+\"</td></tr>\"\n",
    "    h_data.append( h )\n",
    "    \n",
    "output += \"</table>\"\n",
    "display(HTML(output))"
   ]
  },
  {
   "cell_type": "markdown",
   "metadata": {
    "collapsed": true
   },
   "source": [
    "El siguiente gráfico muestra el número H de los investigadores por orden decreciente"
   ]
  },
  {
   "cell_type": "code",
   "execution_count": 3,
   "metadata": {
    "collapsed": false
   },
   "outputs": [
    {
     "data": {
      "text/plain": [
       "<function matplotlib.pyplot.show>"
      ]
     },
     "execution_count": 3,
     "metadata": {},
     "output_type": "execute_result"
    },
    {
     "data": {
      "image/png": "[encoded data removed]",
      "text/plain": [
       "<matplotlib.figure.Figure at 0x7f3a6f233750>"
      ]
     },
     "metadata": {},
     "output_type": "display_data"
    }
   ],
   "source": [
    "h_data.sort()\n",
    "h_data.reverse()\n",
    "plt.plot(h_data)\n",
    "plt.show"
   ]
  },
  {
   "cell_type": "code",
   "execution_count": null,
   "metadata": {
    "collapsed": true
   },
   "outputs": [],
   "source": []
  }
 ],
 "metadata": {
  "kernelspec": {
   "display_name": "Python 2",
   "language": "python",
   "name": "python2"
  },
  "language_info": {
   "codemirror_mode": {
    "name": "ipython",
    "version": 2
   },
   "file_extension": ".py",
   "mimetype": "text/x-python",
   "name": "python",
   "nbconvert_exporter": "python",
   "pygments_lexer": "ipython2",
   "version": "2.7.6"
  }
 },
 "nbformat": 4,
 "nbformat_minor": 0
}
